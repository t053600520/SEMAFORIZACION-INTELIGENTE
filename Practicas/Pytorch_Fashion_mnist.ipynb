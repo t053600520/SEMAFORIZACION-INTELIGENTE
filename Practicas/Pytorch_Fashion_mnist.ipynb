{
  "nbformat": 4,
  "nbformat_minor": 0,
  "metadata": {
    "colab": {
      "provenance": []
    },
    "kernelspec": {
      "name": "python3",
      "display_name": "Python 3"
    },
    "language_info": {
      "name": "python"
    }
  },
  "cells": [
    {
      "cell_type": "code",
      "execution_count": 1,
      "metadata": {
        "colab": {
          "base_uri": "https://localhost:8080/"
        },
        "id": "NjVmH64Q4t0r",
        "outputId": "0c37e9c2-eabc-428c-a41d-5f4deeea2ee9"
      },
      "outputs": [
        {
          "output_type": "stream",
          "name": "stdout",
          "text": [
            "Requirement already satisfied: torch in /usr/local/lib/python3.10/dist-packages (2.4.1+cu121)\n",
            "Requirement already satisfied: filelock in /usr/local/lib/python3.10/dist-packages (from torch) (3.16.1)\n",
            "Requirement already satisfied: typing-extensions>=4.8.0 in /usr/local/lib/python3.10/dist-packages (from torch) (4.12.2)\n",
            "Requirement already satisfied: sympy in /usr/local/lib/python3.10/dist-packages (from torch) (1.13.3)\n",
            "Requirement already satisfied: networkx in /usr/local/lib/python3.10/dist-packages (from torch) (3.3)\n",
            "Requirement already satisfied: jinja2 in /usr/local/lib/python3.10/dist-packages (from torch) (3.1.4)\n",
            "Requirement already satisfied: fsspec in /usr/local/lib/python3.10/dist-packages (from torch) (2024.6.1)\n",
            "Requirement already satisfied: MarkupSafe>=2.0 in /usr/local/lib/python3.10/dist-packages (from jinja2->torch) (2.1.5)\n",
            "Requirement already satisfied: mpmath<1.4,>=1.1.0 in /usr/local/lib/python3.10/dist-packages (from sympy->torch) (1.3.0)\n",
            "Requirement already satisfied: torchvision in /usr/local/lib/python3.10/dist-packages (0.19.1+cu121)\n",
            "Requirement already satisfied: numpy in /usr/local/lib/python3.10/dist-packages (from torchvision) (1.26.4)\n",
            "Requirement already satisfied: torch==2.4.1 in /usr/local/lib/python3.10/dist-packages (from torchvision) (2.4.1+cu121)\n",
            "Requirement already satisfied: pillow!=8.3.*,>=5.3.0 in /usr/local/lib/python3.10/dist-packages (from torchvision) (10.4.0)\n",
            "Requirement already satisfied: filelock in /usr/local/lib/python3.10/dist-packages (from torch==2.4.1->torchvision) (3.16.1)\n",
            "Requirement already satisfied: typing-extensions>=4.8.0 in /usr/local/lib/python3.10/dist-packages (from torch==2.4.1->torchvision) (4.12.2)\n",
            "Requirement already satisfied: sympy in /usr/local/lib/python3.10/dist-packages (from torch==2.4.1->torchvision) (1.13.3)\n",
            "Requirement already satisfied: networkx in /usr/local/lib/python3.10/dist-packages (from torch==2.4.1->torchvision) (3.3)\n",
            "Requirement already satisfied: jinja2 in /usr/local/lib/python3.10/dist-packages (from torch==2.4.1->torchvision) (3.1.4)\n",
            "Requirement already satisfied: fsspec in /usr/local/lib/python3.10/dist-packages (from torch==2.4.1->torchvision) (2024.6.1)\n",
            "Requirement already satisfied: MarkupSafe>=2.0 in /usr/local/lib/python3.10/dist-packages (from jinja2->torch==2.4.1->torchvision) (2.1.5)\n",
            "Requirement already satisfied: mpmath<1.4,>=1.1.0 in /usr/local/lib/python3.10/dist-packages (from sympy->torch==2.4.1->torchvision) (1.3.0)\n"
          ]
        }
      ],
      "source": [
        "!pip install torch\n",
        "!pip install torchvision"
      ]
    },
    {
      "cell_type": "code",
      "source": [
        "import torch\n",
        "import torch.nn as nn\n",
        "import torchvision.datasets as dsets\n",
        "import torchvision.transforms as transforms\n",
        "from torch.autograd import Variable"
      ],
      "metadata": {
        "id": "o2oqYMiK4zkA"
      },
      "execution_count": 2,
      "outputs": []
    },
    {
      "cell_type": "code",
      "source": [
        "input_size = 784\n",
        "hidden_size = 256\n",
        "num_classes = 100\n",
        "num_epochs = 10\n",
        "batch_size = 100\n",
        "lr = 1e-3"
      ],
      "metadata": {
        "id": "0AZZBdsT419g"
      },
      "execution_count": 119,
      "outputs": []
    },
    {
      "cell_type": "code",
      "source": [
        "# Cargar el conjunto de datos de entrenamiento Fashion MNIST\n",
        "train_data = dsets.FashionMNIST(root='./data', train=True,\n",
        "                                transform=transforms.ToTensor(), download=True)\n",
        "\n",
        "# Cargar el conjunto de datos de prueba Fashion MNIST\n",
        "test_data = dsets.FashionMNIST(root='./data', train=False,\n",
        "                               transform=transforms.ToTensor(), download = True)"
      ],
      "metadata": {
        "id": "Kn3rEjAE5VHe"
      },
      "execution_count": 120,
      "outputs": []
    },
    {
      "cell_type": "code",
      "source": [
        "train_gen = torch.utils.data.DataLoader(dataset = train_data,\n",
        "                                             batch_size = batch_size,\n",
        "                                             shuffle = True)\n",
        "\n",
        "test_gen = torch.utils.data.DataLoader(dataset = test_data,\n",
        "                                      batch_size = batch_size,\n",
        "                                      shuffle = True)"
      ],
      "metadata": {
        "id": "JzEqzqRg7OO5"
      },
      "execution_count": 121,
      "outputs": []
    },
    {
      "cell_type": "code",
      "source": [
        "class Net(nn.Module):\n",
        "  def __init__(self, input_size, hidden_size, num_classes):\n",
        "    super().__init__()\n",
        "    self.fc1 = nn.Linear(input_size, hidden_size)\n",
        "    self.relu = nn.ReLU()\n",
        "    self.drop = nn.Dropout(0.2)\n",
        "    self.fc2 = nn.Linear(hidden_size, num_classes)\n",
        "\n",
        "  def forward(self,x):\n",
        "    out = self.fc1(x)\n",
        "    out = self.relu(out)\n",
        "    out = self.drop(out)\n",
        "    out = self.fc2(out)\n",
        "    return out"
      ],
      "metadata": {
        "id": "05MWKpEQ7S_-"
      },
      "execution_count": 122,
      "outputs": []
    },
    {
      "cell_type": "code",
      "source": [
        "net = Net(input_size, hidden_size, num_classes)\n",
        "# Verifica acceso a GPU\n",
        "device = torch.device(\"cuda\" if torch.cuda.is_available() else \"cpu\")\n",
        "net.to(device)"
      ],
      "metadata": {
        "colab": {
          "base_uri": "https://localhost:8080/"
        },
        "id": "-TA-nqOJ7aTI",
        "outputId": "e9522f2a-7073-45f4-997b-1c4ab1956ba1"
      },
      "execution_count": 124,
      "outputs": [
        {
          "output_type": "execute_result",
          "data": {
            "text/plain": [
              "Net(\n",
              "  (fc1): Linear(in_features=784, out_features=256, bias=True)\n",
              "  (relu): ReLU()\n",
              "  (drop): Dropout(p=0.2, inplace=False)\n",
              "  (fc2): Linear(in_features=256, out_features=100, bias=True)\n",
              ")"
            ]
          },
          "metadata": {},
          "execution_count": 124
        }
      ]
    },
    {
      "cell_type": "code",
      "source": [
        "loss_function = nn.CrossEntropyLoss()\n",
        "optimizer = torch.optim.Adam(net.parameters(), lr=lr)"
      ],
      "metadata": {
        "id": "kGbNDPUF7e6d"
      },
      "execution_count": 125,
      "outputs": []
    },
    {
      "cell_type": "code",
      "source": [
        "\n",
        "for epoch in range(num_epochs):\n",
        "    for i, (images, labels) in enumerate(train_gen):\n",
        "        # Cambia la forma de las imágenes al dispositivo (GPU o CPU)\n",
        "        images = images.view(-1, 28*28).to(device)\n",
        "        labels = labels.to(device)\n",
        "\n",
        "        optimizer.zero_grad()  # Pone a cero los gradientes\n",
        "        outputs = net(images)  # Pasa las imágenes a través de la red\n",
        "        loss = loss_function(outputs, labels)  # Calcula la pérdida\n",
        "        loss.backward()  # Calcula los gradientes\n",
        "        optimizer.step()  # Actualiza los parámetros\n",
        "\n",
        "        # Imprime la pérdida cada 100 iteraciones\n",
        "        if (i + 1) % 100 == 0:\n",
        "            print('Epoca [%d/%d], Step [%d/%d], Loss: %.4f'\n",
        "                  % (epoch + 1, num_epochs, i + 1, len(train_data) // batch_size, loss.item()))\n"
      ],
      "metadata": {
        "colab": {
          "base_uri": "https://localhost:8080/"
        },
        "id": "KbhW3iwW7jEL",
        "outputId": "9cf3cd91-3420-42a3-c3f2-489462712c00"
      },
      "execution_count": 126,
      "outputs": [
        {
          "output_type": "stream",
          "name": "stdout",
          "text": [
            "Epoca [1/10], Step [100/600], Loss: 0.5437\n",
            "Epoca [1/10], Step [200/600], Loss: 0.4636\n",
            "Epoca [1/10], Step [300/600], Loss: 0.6170\n",
            "Epoca [1/10], Step [400/600], Loss: 0.6342\n",
            "Epoca [1/10], Step [500/600], Loss: 0.3785\n",
            "Epoca [1/10], Step [600/600], Loss: 0.3455\n",
            "Epoca [2/10], Step [100/600], Loss: 0.2809\n",
            "Epoca [2/10], Step [200/600], Loss: 0.3809\n",
            "Epoca [2/10], Step [300/600], Loss: 0.3745\n",
            "Epoca [2/10], Step [400/600], Loss: 0.4675\n",
            "Epoca [2/10], Step [500/600], Loss: 0.4122\n",
            "Epoca [2/10], Step [600/600], Loss: 0.6508\n",
            "Epoca [3/10], Step [100/600], Loss: 0.4621\n",
            "Epoca [3/10], Step [200/600], Loss: 0.3100\n",
            "Epoca [3/10], Step [300/600], Loss: 0.3655\n",
            "Epoca [3/10], Step [400/600], Loss: 0.3507\n",
            "Epoca [3/10], Step [500/600], Loss: 0.3390\n",
            "Epoca [3/10], Step [600/600], Loss: 0.3280\n",
            "Epoca [4/10], Step [100/600], Loss: 0.3664\n",
            "Epoca [4/10], Step [200/600], Loss: 0.3907\n",
            "Epoca [4/10], Step [300/600], Loss: 0.3913\n",
            "Epoca [4/10], Step [400/600], Loss: 0.2906\n",
            "Epoca [4/10], Step [500/600], Loss: 0.6816\n",
            "Epoca [4/10], Step [600/600], Loss: 0.3868\n",
            "Epoca [5/10], Step [100/600], Loss: 0.3628\n",
            "Epoca [5/10], Step [200/600], Loss: 0.3490\n",
            "Epoca [5/10], Step [300/600], Loss: 0.3885\n",
            "Epoca [5/10], Step [400/600], Loss: 0.3941\n",
            "Epoca [5/10], Step [500/600], Loss: 0.1955\n",
            "Epoca [5/10], Step [600/600], Loss: 0.2627\n",
            "Epoca [6/10], Step [100/600], Loss: 0.4766\n",
            "Epoca [6/10], Step [200/600], Loss: 0.2597\n",
            "Epoca [6/10], Step [300/600], Loss: 0.3909\n",
            "Epoca [6/10], Step [400/600], Loss: 0.2979\n",
            "Epoca [6/10], Step [500/600], Loss: 0.3952\n",
            "Epoca [6/10], Step [600/600], Loss: 0.3022\n",
            "Epoca [7/10], Step [100/600], Loss: 0.3206\n",
            "Epoca [7/10], Step [200/600], Loss: 0.2139\n",
            "Epoca [7/10], Step [300/600], Loss: 0.2984\n",
            "Epoca [7/10], Step [400/600], Loss: 0.2279\n",
            "Epoca [7/10], Step [500/600], Loss: 0.3064\n",
            "Epoca [7/10], Step [600/600], Loss: 0.3002\n",
            "Epoca [8/10], Step [100/600], Loss: 0.3835\n",
            "Epoca [8/10], Step [200/600], Loss: 0.3106\n",
            "Epoca [8/10], Step [300/600], Loss: 0.2691\n",
            "Epoca [8/10], Step [400/600], Loss: 0.1938\n",
            "Epoca [8/10], Step [500/600], Loss: 0.2354\n",
            "Epoca [8/10], Step [600/600], Loss: 0.2010\n",
            "Epoca [9/10], Step [100/600], Loss: 0.2588\n",
            "Epoca [9/10], Step [200/600], Loss: 0.3010\n",
            "Epoca [9/10], Step [300/600], Loss: 0.3616\n",
            "Epoca [9/10], Step [400/600], Loss: 0.2424\n",
            "Epoca [9/10], Step [500/600], Loss: 0.2942\n",
            "Epoca [9/10], Step [600/600], Loss: 0.3360\n",
            "Epoca [10/10], Step [100/600], Loss: 0.2050\n",
            "Epoca [10/10], Step [200/600], Loss: 0.2120\n",
            "Epoca [10/10], Step [300/600], Loss: 0.2440\n",
            "Epoca [10/10], Step [400/600], Loss: 0.3128\n",
            "Epoca [10/10], Step [500/600], Loss: 0.1790\n",
            "Epoca [10/10], Step [600/600], Loss: 0.2568\n"
          ]
        }
      ]
    },
    {
      "cell_type": "code",
      "source": [
        "correct = 0\n",
        "total = 0\n",
        "for images, labels in test_gen:\n",
        "    # Cambia la forma de las imágenes al dispositivo (GPU o CPU)\n",
        "    images = images.view(-1, 28*28).to(device)\n",
        "    labels = labels.to(device)\n",
        "\n",
        "    output = net(images)  # Pasa las imágenes a través de la red\n",
        "    _, predicted = torch.max(output, 1)  # Obtiene las predicciones\n",
        "    correct += (predicted == labels).sum().item()  # Suma las predicciones correctas\n",
        "    total += labels.size(0)  # Suma el total de ejemplos\n",
        "\n",
        "# Calcula y muestra la precisión\n",
        "print('Accuracy: %.3f %%' % (100 * correct / total))"
      ],
      "metadata": {
        "colab": {
          "base_uri": "https://localhost:8080/"
        },
        "id": "uf5wSnf781U-",
        "outputId": "15554926-1bda-4bb9-a8fd-53e7c7f7b0c5"
      },
      "execution_count": 131,
      "outputs": [
        {
          "output_type": "stream",
          "name": "stdout",
          "text": [
            "Accuracy: 87.540 %\n"
          ]
        }
      ]
    }
  ]
}