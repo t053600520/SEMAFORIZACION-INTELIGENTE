{
  "nbformat": 4,
  "nbformat_minor": 0,
  "metadata": {
    "colab": {
      "provenance": [],
      "authorship_tag": "ABX9TyNrzjL7Z1UW96MqwnUQ3Y5k",
      "include_colab_link": true
    },
    "kernelspec": {
      "name": "python3",
      "display_name": "Python 3"
    },
    "language_info": {
      "name": "python"
    }
  },
  "cells": [
    {
      "cell_type": "markdown",
      "metadata": {
        "id": "view-in-github",
        "colab_type": "text"
      },
      "source": [
        "<a href=\"https://colab.research.google.com/github/t053600520/SEMAFORIZACION-INTELIGENTE/blob/main/Uso_de_OS_PDS.ipynb\" target=\"_parent\"><img src=\"https://colab.research.google.com/assets/colab-badge.svg\" alt=\"Open In Colab\"/></a>"
      ]
    },
    {
      "cell_type": "markdown",
      "source": [
        "#Uso de la Librería os en Python"
      ],
      "metadata": {
        "id": "kFBCjRJncocF"
      }
    },
    {
      "cell_type": "markdown",
      "source": [
        "La libreía \"os\" proporciona una interfaz para interactuar con el sistema operativo, lo que permite a los desarrolladores realizar tareas como:\n",
        "* **Gestión de Archivos y Directorios:** Listar, crear y manipular archivos y directorios que contienen conjuntos de datos de entrenamiento y prueba.\n",
        "* **Interacción con el entorno:** Obtener información sobre el sistema, acceder a variables de entorno y gestionar configuraciones específicas del proyecto.\n",
        "* **Ejecutar Procesos:** Facilitar la ejecución de scripts y la gestión de procesos en segundo plano, permitiendo un desarrollo más eficiente y organizaco."
      ],
      "metadata": {
        "id": "7XgrgmXicnE6"
      }
    },
    {
      "cell_type": "markdown",
      "source": [
        "## 1. Exploración y Gestión de Archivos y Directorios."
      ],
      "metadata": {
        "id": "rR209ewAdnXQ"
      }
    },
    {
      "cell_type": "markdown",
      "source": [
        "###1.1. Listar Archivos en un Directorio\n",
        "La función `os.listdir()` permite listar todos los archivos en un directorio especificado. A continuación, crearemos una función para listar los archivos en un directorio dado."
      ],
      "metadata": {
        "id": "ZPCsuKDxd3Lr"
      }
    },
    {
      "cell_type": "code",
      "source": [
        "! pwd"
      ],
      "metadata": {
        "colab": {
          "base_uri": "https://localhost:8080/"
        },
        "id": "Y29pkE08d1vh",
        "outputId": "05e53133-ae4a-4be6-cba8-72939ebaa394"
      },
      "execution_count": null,
      "outputs": [
        {
          "output_type": "stream",
          "name": "stdout",
          "text": [
            "/content\n"
          ]
        }
      ]
    },
    {
      "cell_type": "code",
      "source": [
        "import os\n",
        "\n",
        "def listar_archivos_en_directorio(path):\n",
        "    archivos = os.listdir(path)\n",
        "    return archivos"
      ],
      "metadata": {
        "id": "NGKHA639ehpT"
      },
      "execution_count": null,
      "outputs": []
    },
    {
      "cell_type": "code",
      "source": [
        "# Usa la función anterior\n",
        "# ruta relativa \"./dataset\"\n",
        "# ruta absoluta \"/content/dataset\""
      ],
      "metadata": {
        "id": "JTbeG3XQezk4"
      },
      "execution_count": null,
      "outputs": []
    },
    {
      "cell_type": "code",
      "source": [
        "#num = listar_archivos_en_directorio(\"\")\n",
        "#print(num)"
      ],
      "metadata": {
        "id": "bjXo0nqqfI_9"
      },
      "execution_count": null,
      "outputs": []
    },
    {
      "cell_type": "markdown",
      "source": [
        "###1.2 Filtrar Archivos por Extensión"
      ],
      "metadata": {
        "id": "2Q5OIqsmg0Ra"
      }
    },
    {
      "cell_type": "markdown",
      "source": [
        "A menudo es necesario filtrar archivos por extensión."
      ],
      "metadata": {
        "id": "WflxAkmrg46C"
      }
    },
    {
      "cell_type": "code",
      "source": [
        "def filtrar_archivos_por_extension(path, extension):\n",
        "    archivos = [f for f in os.listdir(path) if f.endswith(extension)]\n",
        "    return archivos"
      ],
      "metadata": {
        "id": "gWJcceHyfWxx"
      },
      "execution_count": null,
      "outputs": []
    },
    {
      "cell_type": "code",
      "source": [
        "# Usa la función anterior\n",
        "# ruta relativa \"./dataset/train\"\n",
        "filtrar_archivos_por_extension(\"\", \".jpg\")"
      ],
      "metadata": {
        "id": "YydUEJZ_hM-H"
      },
      "execution_count": null,
      "outputs": []
    },
    {
      "cell_type": "code",
      "source": [
        "# Crea la función \"filtrar_imagenes\" que permita filtrar todos los archivos que son .png y .jpg\n",
        "def filtrar_imagenes(path):\n",
        "    archivos = [f for f in os.listdir(path) if f.endswith(\".png\") or f.endswith(\".jpg\")]\n",
        "    return archivos"
      ],
      "metadata": {
        "id": "0WdKQgQNheRx"
      },
      "execution_count": null,
      "outputs": []
    },
    {
      "cell_type": "markdown",
      "source": [
        "###1.3 Crear carpeta para almacenar resultados"
      ],
      "metadata": {
        "id": "VURYt0QYhz74"
      }
    },
    {
      "cell_type": "markdown",
      "source": [
        "Es común crear directorios para almacenar los resultados de modelos entrenados, predicciones o visualizaciones."
      ],
      "metadata": {
        "id": "jfyCOBWCh5DW"
      }
    },
    {
      "cell_type": "code",
      "source": [
        "def crear_directorio(path):\n",
        "    if not os.path.exists(path):\n",
        "        os.makedirs(path)\n",
        "    print(f\"Directorio '{path}' creado o ya existente.\")"
      ],
      "metadata": {
        "id": "I7SEXqsKiCYD"
      },
      "execution_count": null,
      "outputs": []
    },
    {
      "cell_type": "code",
      "source": [
        "# Usa la función anterior"
      ],
      "metadata": {
        "id": "2rUwrZM8ikju"
      },
      "execution_count": null,
      "outputs": []
    },
    {
      "cell_type": "markdown",
      "source": [
        "### 1.4 Para leer variables de entorno configuradas"
      ],
      "metadata": {
        "id": "QBIh_Fati3yd"
      }
    },
    {
      "cell_type": "markdown",
      "source": [
        "En caso de datos sensibles como `API_KEY` o `Token` privados."
      ],
      "metadata": {
        "id": "rOKCd2Avi_jR"
      }
    },
    {
      "cell_type": "code",
      "source": [
        "def obtener_variable_entorno(variable):\n",
        "    valor = os.getenv(variable)\n",
        "    if valor:\n",
        "        print(f\"{variable}: {valor}\")\n",
        "    else:\n",
        "        print(f\"La variable de entorno {variable} no está definida.\")"
      ],
      "metadata": {
        "id": "tfWAl2B2jIAw"
      },
      "execution_count": null,
      "outputs": []
    },
    {
      "cell_type": "code",
      "source": [
        "# Creando una variable de entorno\n",
        "os.environ['TEST'] =  'valor'"
      ],
      "metadata": {
        "id": "UZUtMGgRi-xw"
      },
      "execution_count": null,
      "outputs": []
    },
    {
      "cell_type": "code",
      "source": [
        "# Usar función para obtener variables de entorno"
      ],
      "metadata": {
        "id": "mqaoYnbUjiw1"
      },
      "execution_count": null,
      "outputs": []
    },
    {
      "cell_type": "markdown",
      "source": [
        "##2. Preprocesamiento en bloques"
      ],
      "metadata": {
        "id": "A_y9V02Fjn9a"
      }
    },
    {
      "cell_type": "markdown",
      "source": [
        "Esto se aplica cuando se requiere hacer los mismos cambios a todas las imágenes del conjunto de datos."
      ],
      "metadata": {
        "id": "fdt8pfqujrZx"
      }
    },
    {
      "cell_type": "markdown",
      "source": [
        "### 2.1 Redimencionamiento"
      ],
      "metadata": {
        "id": "3YBKtZNmjwtH"
      }
    },
    {
      "cell_type": "code",
      "source": [
        "import os\n",
        "import cv2\n",
        "import matplotlib.pyplot as plt\n",
        "\n",
        "def preprocesar_imagenes_cv2(directorio_origen, directorio_destino, nuevo_tamaño):\n",
        "    crear_directorio(directorio_destino)\n",
        "\n",
        "    for archivo in os.listdir(directorio_origen):\n",
        "        if archivo.endswith('.jpg') or archivo.endswith('.png'):\n",
        "            ruta_completa = os.path.join(directorio_origen, archivo)\n",
        "\n",
        "            imagen = cv2.imread(ruta_completa)\n",
        "\n",
        "            if imagen is None:\n",
        "                print(f\"No se pudo leer la imagen {archivo}.\")\n",
        "                continue\n",
        "            imagen_redimensionada = cv2.resize(imagen, nuevo_tamaño)\n",
        "\n",
        "            cv2.imwrite(os.path.join(directorio_destino, archivo), imagen_redimensionada)\n",
        "            print(f\"Imagen {archivo} redimensionada y guardada.\")\n",
        "\n"
      ],
      "metadata": {
        "id": "Hd5waf2Tjz-J"
      },
      "execution_count": null,
      "outputs": []
    },
    {
      "cell_type": "code",
      "source": [
        "# Usar la funcion anterior\n",
        "# Nuevo tamaño es una tupla ejemplo (128, 128)"
      ],
      "metadata": {
        "id": "ZzbGxp4yk-V_"
      },
      "execution_count": null,
      "outputs": []
    },
    {
      "cell_type": "markdown",
      "source": [
        "### 2.2 Mostrar imagen aleatoria"
      ],
      "metadata": {
        "id": "THn_tk8xlEW0"
      }
    },
    {
      "cell_type": "code",
      "source": [
        "import random\n",
        "\n",
        "def mostrar_imagen_aleatoria(directorio_base):\n",
        "    conjunto = random.choice(['train', 'test'])\n",
        "    directorio = os.path.join(directorio_base, conjunto)\n",
        "\n",
        "    imagenes = os.listdir(directorio) # Verificar que todos los archivos sean imágenes\n",
        "    if not imagenes:\n",
        "        print(f\"No hay imagenes en el directorio {directorio}.\")\n",
        "        return\n",
        "\n",
        "    imagen_aleatoria = random.choice(imagenes)\n",
        "    ruta_imagen = os.path.join(directorio, imagen_aleatoria)\n",
        "\n",
        "    imagen = cv2.imread(ruta_imagen)\n",
        "    imagen_rgb = cv2.cvtColor(imagen, cv2.COLOR_BGR2RGB)\n",
        "\n",
        "    plt.imshor(imagen_rgb)\n",
        "    plt.title(f\"Imagen aleatoria de {conjunto}: {imagen_aleatoria}\")\n",
        "    plt.show()"
      ],
      "metadata": {
        "id": "NLAz80XTlH2s"
      },
      "execution_count": null,
      "outputs": []
    },
    {
      "cell_type": "code",
      "source": [
        "# Usar funcion anterior"
      ],
      "metadata": {
        "id": "3CJldtv7mMd4"
      },
      "execution_count": null,
      "outputs": []
    }
  ]
}